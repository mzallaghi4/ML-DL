{
 "cells": [
  {
   "cell_type": "code",
   "execution_count": 1,
   "id": "a4f9aa61",
   "metadata": {},
   "outputs": [
    {
     "name": "stdout",
     "output_type": "stream",
     "text": [
      "Hello World!\n"
     ]
    }
   ],
   "source": [
    "print(\"Hello World!\")"
   ]
  },
  {
   "cell_type": "code",
   "execution_count": 2,
   "id": "aff108bd",
   "metadata": {},
   "outputs": [
    {
     "name": "stdout",
     "output_type": "stream",
     "text": [
      "This is first program with python\n"
     ]
    }
   ],
   "source": [
    "print(\"This is first program with python\")"
   ]
  },
  {
   "cell_type": "code",
   "execution_count": 3,
   "id": "64c8a615",
   "metadata": {},
   "outputs": [
    {
     "name": "stdout",
     "output_type": "stream",
     "text": [
      "Hi Python\n"
     ]
    }
   ],
   "source": [
    "# this is comment\n",
    "print(\"Hi Python\")     # this is a comment"
   ]
  },
  {
   "cell_type": "code",
   "execution_count": 4,
   "id": "683d38cd",
   "metadata": {},
   "outputs": [],
   "source": [
    "x = 4  # x is of type int \n",
    "y = 5  # y is of type int\n",
    "z = \"Jhon\" # z is of type str  (string) "
   ]
  },
  {
   "cell_type": "code",
   "execution_count": 5,
   "id": "300ad586",
   "metadata": {},
   "outputs": [
    {
     "name": "stdout",
     "output_type": "stream",
     "text": [
      "4\n",
      "Jhon\n"
     ]
    }
   ],
   "source": [
    "print(x)\n",
    "print(z) "
   ]
  },
  {
   "cell_type": "code",
   "execution_count": 6,
   "id": "173b95d1",
   "metadata": {},
   "outputs": [],
   "source": [
    "n = 3.2     # n is of type float"
   ]
  },
  {
   "cell_type": "code",
   "execution_count": 7,
   "id": "b1d6186c",
   "metadata": {},
   "outputs": [
    {
     "name": "stdout",
     "output_type": "stream",
     "text": [
      "<class 'float'>\n"
     ]
    }
   ],
   "source": [
    "print(type(n))"
   ]
  },
  {
   "cell_type": "code",
   "execution_count": 8,
   "id": "13af94de",
   "metadata": {},
   "outputs": [],
   "source": [
    "m = float(4)"
   ]
  },
  {
   "cell_type": "code",
   "execution_count": 9,
   "id": "d14a76e3",
   "metadata": {},
   "outputs": [
    {
     "name": "stdout",
     "output_type": "stream",
     "text": [
      "4.0\n"
     ]
    }
   ],
   "source": [
    "print(m)"
   ]
  },
  {
   "cell_type": "code",
   "execution_count": 11,
   "id": "e5d52ee2",
   "metadata": {},
   "outputs": [],
   "source": [
    "x1 = \"john\"\n",
    "x2 = 'john'"
   ]
  },
  {
   "cell_type": "code",
   "execution_count": 12,
   "id": "d62d72de",
   "metadata": {},
   "outputs": [
    {
     "name": "stdout",
     "output_type": "stream",
     "text": [
      "john\n",
      "john\n"
     ]
    }
   ],
   "source": [
    "print(x1)\n",
    "print(x2)"
   ]
  },
  {
   "cell_type": "code",
   "execution_count": 13,
   "id": "ad95d280",
   "metadata": {},
   "outputs": [],
   "source": [
    "myvar = 'john'\n",
    "MyVar = 'john'   #\n",
    "my_var = 'john'  #"
   ]
  },
  {
   "cell_type": "code",
   "execution_count": 14,
   "id": "c56cc423",
   "metadata": {},
   "outputs": [],
   "source": [
    "x , y, z = \"blue\", \"green\", \"yellow\""
   ]
  },
  {
   "cell_type": "code",
   "execution_count": 15,
   "id": "5a5fbd3c",
   "metadata": {},
   "outputs": [
    {
     "name": "stdout",
     "output_type": "stream",
     "text": [
      "blue\n",
      "green\n"
     ]
    }
   ],
   "source": [
    "print(x)\n",
    "print(y)"
   ]
  },
  {
   "cell_type": "code",
   "execution_count": 17,
   "id": "91084025",
   "metadata": {},
   "outputs": [
    {
     "name": "stdout",
     "output_type": "stream",
     "text": [
      "blue\n",
      "blue\n"
     ]
    }
   ],
   "source": [
    "x = y = z = \"blue\"\n",
    "print(y)\n",
    "print(z) "
   ]
  },
  {
   "cell_type": "markdown",
   "id": "ff5ecaf8",
   "metadata": {},
   "source": [
    "## Python Data Type"
   ]
  },
  {
   "cell_type": "code",
   "execution_count": 19,
   "id": "38725d7b",
   "metadata": {},
   "outputs": [],
   "source": [
    "x = \"Hello Python\"   # data type = str\n",
    "y = 20               # data type = int\n",
    "z = 3.5              # data type = float\n",
    "r = 2j               # data type = complex"
   ]
  },
  {
   "cell_type": "code",
   "execution_count": 20,
   "id": "b9afda73",
   "metadata": {},
   "outputs": [],
   "source": [
    "x1 = [\"apple\", \"banana\", \"cherry\"]   # list"
   ]
  },
  {
   "cell_type": "code",
   "execution_count": 21,
   "id": "51d0b0d7",
   "metadata": {},
   "outputs": [],
   "source": [
    "x2 = (\"apple\", \"banana\", \"cherry\")   # tuple"
   ]
  },
  {
   "cell_type": "code",
   "execution_count": 27,
   "id": "011acdfd",
   "metadata": {},
   "outputs": [],
   "source": [
    "x3 = range(6)                         # range"
   ]
  },
  {
   "cell_type": "code",
   "execution_count": 29,
   "id": "3b68151b",
   "metadata": {},
   "outputs": [],
   "source": [
    "x4 = {\"name\" : \"Amir\", \"age\" : 25 }   # dictionary "
   ]
  },
  {
   "cell_type": "code",
   "execution_count": 30,
   "id": "33447b32",
   "metadata": {},
   "outputs": [],
   "source": [
    "x5 = {\"apple\", \"banana\", \"cherry\" }   # set"
   ]
  },
  {
   "cell_type": "code",
   "execution_count": 31,
   "id": "6a3e0485",
   "metadata": {},
   "outputs": [
    {
     "name": "stdout",
     "output_type": "stream",
     "text": [
      "john\n",
      "john\n",
      "range(0, 6)\n",
      "{'name': 'Amir', 'age': 25}\n"
     ]
    }
   ],
   "source": [
    "print(x1)\n",
    "print(x2)\n",
    "print(x3)\n",
    "print(x4)"
   ]
  },
  {
   "cell_type": "code",
   "execution_count": 32,
   "id": "79a876a5",
   "metadata": {},
   "outputs": [
    {
     "name": "stdout",
     "output_type": "stream",
     "text": [
      "range(0, 6)\n"
     ]
    }
   ],
   "source": [
    "print(x3)"
   ]
  },
  {
   "cell_type": "code",
   "execution_count": 33,
   "id": "81fa2864",
   "metadata": {},
   "outputs": [],
   "source": [
    "x6 = True          # bool\n",
    "x7 = False         # bool"
   ]
  },
  {
   "cell_type": "markdown",
   "id": "979497b3",
   "metadata": {},
   "source": [
    "# Python Nambers"
   ]
  },
  {
   "cell_type": "code",
   "execution_count": 34,
   "id": "fdb74db8",
   "metadata": {},
   "outputs": [],
   "source": [
    "x = 2           # int\n",
    "y = 4.5         # float\n",
    "z = 3j          # complex"
   ]
  },
  {
   "cell_type": "code",
   "execution_count": 35,
   "id": "eef5999d",
   "metadata": {},
   "outputs": [],
   "source": [
    "d = 2.8 "
   ]
  },
  {
   "cell_type": "code",
   "execution_count": 36,
   "id": "e049bb98",
   "metadata": {},
   "outputs": [
    {
     "name": "stdout",
     "output_type": "stream",
     "text": [
      "<class 'float'>\n"
     ]
    }
   ],
   "source": [
    "print(type(d))"
   ]
  },
  {
   "cell_type": "code",
   "execution_count": 38,
   "id": "61ed9785",
   "metadata": {},
   "outputs": [],
   "source": [
    "c = 4j"
   ]
  },
  {
   "cell_type": "code",
   "execution_count": 39,
   "id": "c3f658ee",
   "metadata": {},
   "outputs": [
    {
     "name": "stdout",
     "output_type": "stream",
     "text": [
      "<class 'complex'>\n"
     ]
    }
   ],
   "source": [
    "print(type(c))"
   ]
  },
  {
   "cell_type": "code",
   "execution_count": 40,
   "id": "81d309d2",
   "metadata": {},
   "outputs": [],
   "source": [
    "y = float(4.5) "
   ]
  },
  {
   "cell_type": "markdown",
   "id": "96c90e58",
   "metadata": {},
   "source": [
    "# String\n",
    "# Assign string to a variable"
   ]
  },
  {
   "cell_type": "code",
   "execution_count": 41,
   "id": "43449639",
   "metadata": {},
   "outputs": [],
   "source": [
    "my_var1 = \"Hello\"\n",
    "my_var2 = \"Amir\"\n"
   ]
  },
  {
   "cell_type": "code",
   "execution_count": 42,
   "id": "4cb3ce20",
   "metadata": {},
   "outputs": [
    {
     "name": "stdout",
     "output_type": "stream",
     "text": [
      "Amir\n"
     ]
    }
   ],
   "source": [
    "print(my_var2)"
   ]
  },
  {
   "cell_type": "code",
   "execution_count": 43,
   "id": "b52531c3",
   "metadata": {},
   "outputs": [
    {
     "name": "stdout",
     "output_type": "stream",
     "text": [
      "Hello\n",
      "Amir\n"
     ]
    }
   ],
   "source": [
    "print(my_var1)\n",
    "print(my_var2)"
   ]
  },
  {
   "cell_type": "code",
   "execution_count": 52,
   "id": "b8c5ffa1",
   "metadata": {},
   "outputs": [],
   "source": [
    "my_var3 = \"\"\" This is multiline string,\n",
    "and we want to assign multiline string. \"\"\""
   ]
  },
  {
   "cell_type": "code",
   "execution_count": 53,
   "id": "ebacefa9",
   "metadata": {},
   "outputs": [
    {
     "name": "stdout",
     "output_type": "stream",
     "text": [
      " This is multiline string,\n",
      "and we want to assign multiline string. \n"
     ]
    }
   ],
   "source": [
    "print(my_var3)"
   ]
  },
  {
   "cell_type": "markdown",
   "id": "f00157fa",
   "metadata": {},
   "source": [
    "# Boolean value\n",
    "True or False"
   ]
  },
  {
   "cell_type": "code",
   "execution_count": 54,
   "id": "968acd8d",
   "metadata": {},
   "outputs": [
    {
     "name": "stdout",
     "output_type": "stream",
     "text": [
      "True\n"
     ]
    }
   ],
   "source": [
    "print(10 > 5) "
   ]
  },
  {
   "cell_type": "code",
   "execution_count": 55,
   "id": "298ae9d2",
   "metadata": {},
   "outputs": [
    {
     "name": "stdout",
     "output_type": "stream",
     "text": [
      "False\n"
     ]
    }
   ],
   "source": [
    "print(3 == 5)"
   ]
  },
  {
   "cell_type": "code",
   "execution_count": 56,
   "id": "32cdcd3d",
   "metadata": {},
   "outputs": [
    {
     "name": "stdout",
     "output_type": "stream",
     "text": [
      "x is greater than y\n"
     ]
    }
   ],
   "source": [
    "x = 150\n",
    "y = 35\n",
    "\n",
    "if x > y:\n",
    "    print(\"x is greater than y\")\n",
    "else:\n",
    "    print(\"y is greater than x\")"
   ]
  },
  {
   "cell_type": "code",
   "execution_count": 57,
   "id": "2c090866",
   "metadata": {},
   "outputs": [
    {
     "name": "stdout",
     "output_type": "stream",
     "text": [
      "True\n",
      "True\n"
     ]
    }
   ],
   "source": [
    "print(bool(\"Hi\"))\n",
    "print(bool(12))"
   ]
  },
  {
   "cell_type": "markdown",
   "id": "e1da7c94",
   "metadata": {},
   "source": [
    "# Opetators"
   ]
  },
  {
   "cell_type": "code",
   "execution_count": 58,
   "id": "37901641",
   "metadata": {},
   "outputs": [
    {
     "name": "stdout",
     "output_type": "stream",
     "text": [
      "20\n"
     ]
    }
   ],
   "source": [
    "print(10 + 10)"
   ]
  },
  {
   "cell_type": "code",
   "execution_count": 59,
   "id": "142bc947",
   "metadata": {},
   "outputs": [
    {
     "name": "stdout",
     "output_type": "stream",
     "text": [
      "2\n"
     ]
    }
   ],
   "source": [
    "print(6 - 4)"
   ]
  },
  {
   "cell_type": "code",
   "execution_count": 60,
   "id": "0383c023",
   "metadata": {},
   "outputs": [
    {
     "name": "stdout",
     "output_type": "stream",
     "text": [
      "30\n"
     ]
    }
   ],
   "source": [
    "print(6 * 5)"
   ]
  },
  {
   "cell_type": "code",
   "execution_count": 62,
   "id": "17e0da97",
   "metadata": {},
   "outputs": [
    {
     "name": "stdout",
     "output_type": "stream",
     "text": [
      "36\n"
     ]
    }
   ],
   "source": [
    "print(6 ** 2)"
   ]
  },
  {
   "cell_type": "code",
   "execution_count": 64,
   "id": "41986fb6",
   "metadata": {},
   "outputs": [
    {
     "name": "stdout",
     "output_type": "stream",
     "text": [
      "5.0\n"
     ]
    }
   ],
   "source": [
    "print(20 / 4)"
   ]
  },
  {
   "cell_type": "code",
   "execution_count": 65,
   "id": "503a11fc",
   "metadata": {},
   "outputs": [
    {
     "name": "stdout",
     "output_type": "stream",
     "text": [
      "0\n"
     ]
    }
   ],
   "source": [
    "print(20 % 4)"
   ]
  },
  {
   "cell_type": "code",
   "execution_count": 66,
   "id": "71385d35",
   "metadata": {},
   "outputs": [
    {
     "name": "stdout",
     "output_type": "stream",
     "text": [
      "14.0\n"
     ]
    }
   ],
   "source": [
    "x = 4\n",
    "y = 3.5\n",
    "print(x * y)"
   ]
  },
  {
   "cell_type": "code",
   "execution_count": 67,
   "id": "3aca711d",
   "metadata": {},
   "outputs": [
    {
     "name": "stdout",
     "output_type": "stream",
     "text": [
      "18.0\n"
     ]
    }
   ],
   "source": [
    "print(x + y * x)"
   ]
  },
  {
   "cell_type": "code",
   "execution_count": 68,
   "id": "633ad0dd",
   "metadata": {},
   "outputs": [],
   "source": [
    "x = 5"
   ]
  },
  {
   "cell_type": "code",
   "execution_count": 72,
   "id": "eb21ffa4",
   "metadata": {},
   "outputs": [
    {
     "name": "stdout",
     "output_type": "stream",
     "text": [
      "8\n"
     ]
    }
   ],
   "source": [
    "x = 5\n",
    "x += 3\n",
    "print(x)"
   ]
  },
  {
   "cell_type": "code",
   "execution_count": 73,
   "id": "333cef5c",
   "metadata": {},
   "outputs": [
    {
     "name": "stdout",
     "output_type": "stream",
     "text": [
      "2\n"
     ]
    }
   ],
   "source": [
    "x = 5\n",
    "x -= 3\n",
    "print(x)"
   ]
  },
  {
   "cell_type": "code",
   "execution_count": 74,
   "id": "ff91a82b",
   "metadata": {},
   "outputs": [
    {
     "name": "stdout",
     "output_type": "stream",
     "text": [
      "125\n"
     ]
    }
   ],
   "source": [
    "x = 5\n",
    "x **= 3\n",
    "print(x)"
   ]
  },
  {
   "cell_type": "code",
   "execution_count": 75,
   "id": "d0386b07",
   "metadata": {},
   "outputs": [
    {
     "name": "stdout",
     "output_type": "stream",
     "text": [
      "1\n"
     ]
    }
   ],
   "source": [
    "x = 5\n",
    "x &= 3\n",
    "print(x)"
   ]
  },
  {
   "cell_type": "markdown",
   "id": "6d30fde6",
   "metadata": {},
   "source": [
    "# comparison operators"
   ]
  },
  {
   "cell_type": "code",
   "execution_count": 76,
   "id": "b5b13e0e",
   "metadata": {},
   "outputs": [
    {
     "name": "stdout",
     "output_type": "stream",
     "text": [
      "False\n"
     ]
    }
   ],
   "source": [
    "x = 5\n",
    "y = 3\n",
    "print(x == y)  # is equal"
   ]
  },
  {
   "cell_type": "code",
   "execution_count": 77,
   "id": "9016a0a8",
   "metadata": {},
   "outputs": [
    {
     "name": "stdout",
     "output_type": "stream",
     "text": [
      "True\n"
     ]
    }
   ],
   "source": [
    "print(x != y) # is not equal"
   ]
  },
  {
   "cell_type": "code",
   "execution_count": 78,
   "id": "ee07f553",
   "metadata": {},
   "outputs": [
    {
     "name": "stdout",
     "output_type": "stream",
     "text": [
      "False\n"
     ]
    }
   ],
   "source": [
    "print(x < y)"
   ]
  },
  {
   "cell_type": "code",
   "execution_count": 79,
   "id": "34f5cd78",
   "metadata": {},
   "outputs": [
    {
     "name": "stdout",
     "output_type": "stream",
     "text": [
      "True\n"
     ]
    }
   ],
   "source": [
    "print(x > y)"
   ]
  },
  {
   "cell_type": "markdown",
   "id": "481596e8",
   "metadata": {},
   "source": [
    "# Logical operator "
   ]
  },
  {
   "cell_type": "code",
   "execution_count": 80,
   "id": "1aa151ac",
   "metadata": {},
   "outputs": [
    {
     "name": "stdout",
     "output_type": "stream",
     "text": [
      "True\n"
     ]
    }
   ],
   "source": [
    "# and\n",
    "x = 5\n",
    "print(x > 3 and x < 10)"
   ]
  },
  {
   "cell_type": "code",
   "execution_count": 81,
   "id": "6f1dca31",
   "metadata": {},
   "outputs": [
    {
     "name": "stdout",
     "output_type": "stream",
     "text": [
      "True\n"
     ]
    }
   ],
   "source": [
    "# or \n",
    "x = 5\n",
    "print(x > 3 or x < 4)"
   ]
  },
  {
   "cell_type": "code",
   "execution_count": 82,
   "id": "c4de926a",
   "metadata": {},
   "outputs": [
    {
     "name": "stdout",
     "output_type": "stream",
     "text": [
      "False\n"
     ]
    }
   ],
   "source": [
    "# not\n",
    "x = 5\n",
    "print(not(x > 3 and x < 10))"
   ]
  },
  {
   "cell_type": "code",
   "execution_count": 83,
   "id": "e9263a91",
   "metadata": {},
   "outputs": [],
   "source": [
    "x = [\"apple\", \"banana\"]\n",
    "y = [\"apple\", \"banana\"]\n",
    "z = x"
   ]
  },
  {
   "cell_type": "code",
   "execution_count": 84,
   "id": "a981b5d1",
   "metadata": {},
   "outputs": [
    {
     "name": "stdout",
     "output_type": "stream",
     "text": [
      "True\n"
     ]
    }
   ],
   "source": [
    "print(x is z)"
   ]
  },
  {
   "cell_type": "code",
   "execution_count": 85,
   "id": "d44701c4",
   "metadata": {},
   "outputs": [
    {
     "name": "stdout",
     "output_type": "stream",
     "text": [
      "False\n"
     ]
    }
   ],
   "source": [
    "print(x is y)"
   ]
  },
  {
   "cell_type": "code",
   "execution_count": 86,
   "id": "3d8cc37a",
   "metadata": {},
   "outputs": [
    {
     "name": "stdout",
     "output_type": "stream",
     "text": [
      "True\n"
     ]
    }
   ],
   "source": [
    "print(x == y)"
   ]
  },
  {
   "cell_type": "markdown",
   "id": "8eb2cec0",
   "metadata": {},
   "source": [
    "# List"
   ]
  },
  {
   "cell_type": "code",
   "execution_count": 87,
   "id": "5bbba97d",
   "metadata": {},
   "outputs": [],
   "source": [
    "f = [\"apple\", \"banana\", \"cherry\"]"
   ]
  },
  {
   "cell_type": "code",
   "execution_count": 89,
   "id": "08cd01b4",
   "metadata": {},
   "outputs": [
    {
     "name": "stdout",
     "output_type": "stream",
     "text": [
      "['apple', 'banana', 'cherry']\n"
     ]
    }
   ],
   "source": [
    "# list is used to store multiple items in a single variable\n",
    "print(f)"
   ]
  },
  {
   "cell_type": "code",
   "execution_count": 90,
   "id": "6192fc9c",
   "metadata": {},
   "outputs": [
    {
     "name": "stdout",
     "output_type": "stream",
     "text": [
      "3\n"
     ]
    }
   ],
   "source": [
    "print(len(f))"
   ]
  },
  {
   "cell_type": "code",
   "execution_count": 92,
   "id": "49b40321",
   "metadata": {},
   "outputs": [],
   "source": [
    "L1 = [\"apple\", \"banana\", \"cherry\"]\n",
    "L2 = [1 , 2, 3, 4]\n",
    "L3 = [True, False, True]"
   ]
  },
  {
   "cell_type": "code",
   "execution_count": 93,
   "id": "df83066c",
   "metadata": {},
   "outputs": [
    {
     "name": "stdout",
     "output_type": "stream",
     "text": [
      "['apple', 'banana', 'cherry']\n",
      "[1, 2, 3, 4]\n",
      "[True, False, True]\n"
     ]
    }
   ],
   "source": [
    "print(L1)\n",
    "print(L2)\n",
    "print(L3)"
   ]
  },
  {
   "cell_type": "code",
   "execution_count": 99,
   "id": "b455bbe0",
   "metadata": {},
   "outputs": [
    {
     "name": "stdout",
     "output_type": "stream",
     "text": [
      "['apple', 4, True, False, 8]\n"
     ]
    }
   ],
   "source": [
    "L4 = [\"apple\", 4, True, False, 8]\n",
    "print(L4)"
   ]
  },
  {
   "cell_type": "code",
   "execution_count": 96,
   "id": "668533e9",
   "metadata": {},
   "outputs": [
    {
     "name": "stdout",
     "output_type": "stream",
     "text": [
      "<class 'list'>\n"
     ]
    }
   ],
   "source": [
    "print(type(L4))"
   ]
  },
  {
   "cell_type": "code",
   "execution_count": 100,
   "id": "d6c90981",
   "metadata": {},
   "outputs": [
    {
     "name": "stdout",
     "output_type": "stream",
     "text": [
      "['apple', 4, True, False, 8]\n"
     ]
    }
   ],
   "source": [
    "print(L4)"
   ]
  },
  {
   "cell_type": "code",
   "execution_count": 101,
   "id": "201bd851",
   "metadata": {},
   "outputs": [
    {
     "name": "stdout",
     "output_type": "stream",
     "text": [
      "False\n"
     ]
    }
   ],
   "source": [
    "print(L4[3])"
   ]
  },
  {
   "cell_type": "code",
   "execution_count": 102,
   "id": "cd392704",
   "metadata": {},
   "outputs": [
    {
     "name": "stdout",
     "output_type": "stream",
     "text": [
      "apple\n"
     ]
    }
   ],
   "source": [
    "print(L4[0])"
   ]
  },
  {
   "cell_type": "code",
   "execution_count": 103,
   "id": "ca563de2",
   "metadata": {},
   "outputs": [
    {
     "name": "stdout",
     "output_type": "stream",
     "text": [
      "8\n"
     ]
    }
   ],
   "source": [
    "print(L4[-1])"
   ]
  },
  {
   "cell_type": "code",
   "execution_count": 104,
   "id": "1dd9fe9b",
   "metadata": {},
   "outputs": [
    {
     "name": "stdout",
     "output_type": "stream",
     "text": [
      "['blue', 'black', 'yellow']\n"
     ]
    }
   ],
   "source": [
    "L5 = [\"blue\", \"green\", \"yellow\"]\n",
    "L5[1] = \"black\"\n",
    "print(L5)"
   ]
  },
  {
   "cell_type": "code",
   "execution_count": 105,
   "id": "8d15b355",
   "metadata": {},
   "outputs": [
    {
     "name": "stdout",
     "output_type": "stream",
     "text": [
      "['blue', 'black', 'yellow', 'red']\n"
     ]
    }
   ],
   "source": [
    "L5.append(\"red\")\n",
    "print(L5)"
   ]
  },
  {
   "cell_type": "code",
   "execution_count": 106,
   "id": "92cb70fc",
   "metadata": {},
   "outputs": [
    {
     "name": "stdout",
     "output_type": "stream",
     "text": [
      "['blue', 'black', 'red']\n"
     ]
    }
   ],
   "source": [
    "L5.remove(\"yellow\")\n",
    "print(L5)"
   ]
  },
  {
   "cell_type": "code",
   "execution_count": null,
   "id": "f6e6d388",
   "metadata": {},
   "outputs": [],
   "source": []
  }
 ],
 "metadata": {
  "kernelspec": {
   "display_name": "Python 3 (ipykernel)",
   "language": "python",
   "name": "python3"
  },
  "language_info": {
   "codemirror_mode": {
    "name": "ipython",
    "version": 3
   },
   "file_extension": ".py",
   "mimetype": "text/x-python",
   "name": "python",
   "nbconvert_exporter": "python",
   "pygments_lexer": "ipython3",
   "version": "3.9.12"
  }
 },
 "nbformat": 4,
 "nbformat_minor": 5
}
