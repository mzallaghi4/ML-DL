{
 "cells": [
  {
   "cell_type": "markdown",
   "id": "4653f89e",
   "metadata": {},
   "source": [
    "# Scientific Computing with Python\n",
    "This course discusses the essential concepts of Python programming for High-performance scientific computing.\n",
    "\n",
    "Topics include:     \n",
    "-- Python Basics <br>\n",
    "-- NumPy <br>\n",
    "-- Pandas <br>\n",
    "-- SciPy <br>\n",
    "-- Matplotlib <br>\n"
   ]
  },
  {
   "cell_type": "markdown",
   "id": "0ddc89f0",
   "metadata": {},
   "source": [
    "# Python Basics"
   ]
  },
  {
   "cell_type": "code",
   "execution_count": 2,
   "id": "bcc9f8b3",
   "metadata": {},
   "outputs": [
    {
     "name": "stdout",
     "output_type": "stream",
     "text": [
      "Hello! This is Python course for Scientific Computing\n"
     ]
    }
   ],
   "source": [
    "print(\"Hello! This is Python course for Scientific Computing\")"
   ]
  },
  {
   "cell_type": "code",
   "execution_count": 3,
   "id": "eff1ff49",
   "metadata": {},
   "outputs": [],
   "source": [
    "# Data structures: list, set, tuples, and dictionary\n",
    "fruits = ['orange', 'apple', 'pear', 'banana', 'kiwi', 'apple', 'banana']"
   ]
  },
  {
   "cell_type": "markdown",
   "id": "ab566e45",
   "metadata": {},
   "source": [
    "#  NumPy"
   ]
  },
  {
   "cell_type": "code",
   "execution_count": null,
   "id": "b5bb98e0",
   "metadata": {},
   "outputs": [],
   "source": []
  }
 ],
 "metadata": {
  "kernelspec": {
   "display_name": "Python 3 (ipykernel)",
   "language": "python",
   "name": "python3"
  },
  "language_info": {
   "codemirror_mode": {
    "name": "ipython",
    "version": 3
   },
   "file_extension": ".py",
   "mimetype": "text/x-python",
   "name": "python",
   "nbconvert_exporter": "python",
   "pygments_lexer": "ipython3",
   "version": "3.9.13"
  }
 },
 "nbformat": 4,
 "nbformat_minor": 5
}
